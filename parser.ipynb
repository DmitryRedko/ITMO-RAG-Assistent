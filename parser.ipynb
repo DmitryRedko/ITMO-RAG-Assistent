{
 "cells": [
  {
   "cell_type": "code",
   "execution_count": null,
   "metadata": {},
   "outputs": [],
   "source": [
    "!pip install beautifulsoup4\n",
    "!pip install requests\n",
    "!pip install tqdm\n",
    "!pip install transformers\n",
    "!pip install nltk\n",
    "!pip install torch\n",
    "!pip install transformers\n"
   ]
  },
  {
   "cell_type": "code",
   "execution_count": null,
   "metadata": {},
   "outputs": [],
   "source": [
    "from bs4 import BeautifulSoup\n",
    "import requests\n",
    "from urllib.parse import urljoin\n",
    "import re\n",
    "from tqdm import tqdm\n",
    "import json\n",
    "from transformers import BertTokenizer, BertModel\n",
    "import torch\n",
    "\n",
    "import nltk\n",
    "from nltk.corpus import stopwords\n",
    "nltk.download('stopwords')\n",
    "\n",
    "output_filename = 'vacancies.pt'\n",
    "tokenizer = BertTokenizer.from_pretrained('bert-base-multilingual-cased')\n",
    "model = BertModel.from_pretrained('bert-base-multilingual-cased')"
   ]
  },
  {
   "cell_type": "code",
   "execution_count": null,
   "metadata": {},
   "outputs": [],
   "source": [
    "\n",
    "\n",
    "base_url = \"https://careers.itmo.ru/catalog/\"\n",
    "current_page = 1\n",
    "\n",
    "vacancies = []\n",
    "\n",
    "def remove_stopwords(text):\n",
    "    stop_words = set(stopwords.words('russian'))\n",
    "    words = text.split()\n",
    "    filtered_words = [word for word in words if word.lower() not in stop_words]\n",
    "    return ' '.join(filtered_words)\n",
    "\n",
    "def get_bert_embeddings(text):\n",
    "    inputs = tokenizer(text, return_tensors='pt', max_length=512, truncation=True)\n",
    "    with torch.no_grad():\n",
    "        outputs = model(**inputs)\n",
    "    embeddings = torch.mean(outputs.last_hidden_state, dim=1)  \n",
    "    return embeddings\n",
    "\n",
    "\n",
    "index = 0\n",
    "\n",
    "while current_page<49:\n",
    "    url = f\"{base_url}page-{current_page}.html\"\n",
    "    \n",
    "    response = requests.get(url)\n",
    "\n",
    "    if response.status_code == 200:\n",
    "        \n",
    "        soup = BeautifulSoup(response.content, \"html.parser\")\n",
    "        \n",
    "        job_items = soup.find_all(\"div\", class_=\"jobs-item\")\n",
    "        \n",
    "        for job_item in job_items:\n",
    "            title = job_item.find(\"h6\", class_=\"title\").text.strip()\n",
    "            company = job_item.find(\"span\", class_=\"meta\").text.strip()\n",
    "            description = job_item.find(\"p\", class_=\"description\").text.strip()\n",
    "\n",
    "            description = description.replace('\\n', ' ')\n",
    "\n",
    "            description = re.sub(' +', ' ', description)\n",
    "\n",
    "            vacancy_info = {\n",
    "                \"Index\": index,\n",
    "                \"Название вакансии\": [title],\n",
    "                \"Компания\": [company],\n",
    "                \"Описание\": [description],\n",
    "                \"Embeded\": get_bert_embeddings(remove_stopwords(description))\n",
    "            }\n",
    "            vacancies.append(vacancy_info)\n",
    "            index+=1\n",
    "\n",
    "        current_page += 1\n",
    "    else:\n",
    "        print(\"Ошибка при получении страницы:\", response.status_code)\n",
    "        break\n",
    "\n"
   ]
  },
  {
   "cell_type": "code",
   "execution_count": null,
   "metadata": {},
   "outputs": [],
   "source": [
    "torch.save(vacancies, output_filename)"
   ]
  },
  {
   "cell_type": "code",
   "execution_count": null,
   "metadata": {},
   "outputs": [],
   "source": []
  }
 ],
 "metadata": {
  "kernelspec": {
   "display_name": "Python 3",
   "language": "python",
   "name": "python3"
  },
  "language_info": {
   "codemirror_mode": {
    "name": "ipython",
    "version": 3
   },
   "file_extension": ".py",
   "mimetype": "text/x-python",
   "name": "python",
   "nbconvert_exporter": "python",
   "pygments_lexer": "ipython3",
   "version": "3.10.12"
  },
  "orig_nbformat": 4
 },
 "nbformat": 4,
 "nbformat_minor": 2
}
